{
 "cells": [
  {
   "cell_type": "code",
   "execution_count": 1,
   "metadata": {},
   "outputs": [],
   "source": [
    "import pandas as pd\n",
    "import numpy as np\n",
    "import warnings\n",
    "warnings.filterwarnings(\"ignore\")"
   ]
  },
  {
   "cell_type": "code",
   "execution_count": 2,
   "metadata": {},
   "outputs": [
    {
     "data": {
      "text/html": [
       "<div>\n",
       "<style scoped>\n",
       "    .dataframe tbody tr th:only-of-type {\n",
       "        vertical-align: middle;\n",
       "    }\n",
       "\n",
       "    .dataframe tbody tr th {\n",
       "        vertical-align: top;\n",
       "    }\n",
       "\n",
       "    .dataframe thead th {\n",
       "        text-align: right;\n",
       "    }\n",
       "</style>\n",
       "<table border=\"1\" class=\"dataframe\">\n",
       "  <thead>\n",
       "    <tr style=\"text-align: right;\">\n",
       "      <th></th>\n",
       "      <th>gender</th>\n",
       "      <th>NationalITy</th>\n",
       "      <th>PlaceofBirth</th>\n",
       "      <th>StageID</th>\n",
       "      <th>GradeID</th>\n",
       "      <th>SectionID</th>\n",
       "      <th>Topic</th>\n",
       "      <th>Semester</th>\n",
       "      <th>Relation</th>\n",
       "      <th>raisedhands</th>\n",
       "      <th>VisITedResources</th>\n",
       "      <th>AnnouncementsView</th>\n",
       "      <th>Discussion</th>\n",
       "      <th>ParentAnsweringSurvey</th>\n",
       "      <th>ParentschoolSatisfaction</th>\n",
       "      <th>StudentAbsenceDays</th>\n",
       "      <th>Class</th>\n",
       "    </tr>\n",
       "  </thead>\n",
       "  <tbody>\n",
       "    <tr>\n",
       "      <th>0</th>\n",
       "      <td>M</td>\n",
       "      <td>KW</td>\n",
       "      <td>KuwaIT</td>\n",
       "      <td>lowerlevel</td>\n",
       "      <td>G-04</td>\n",
       "      <td>A</td>\n",
       "      <td>IT</td>\n",
       "      <td>F</td>\n",
       "      <td>Father</td>\n",
       "      <td>15</td>\n",
       "      <td>16</td>\n",
       "      <td>2</td>\n",
       "      <td>20</td>\n",
       "      <td>Yes</td>\n",
       "      <td>Good</td>\n",
       "      <td>Under-7</td>\n",
       "      <td>M</td>\n",
       "    </tr>\n",
       "    <tr>\n",
       "      <th>1</th>\n",
       "      <td>M</td>\n",
       "      <td>KW</td>\n",
       "      <td>KuwaIT</td>\n",
       "      <td>lowerlevel</td>\n",
       "      <td>G-04</td>\n",
       "      <td>A</td>\n",
       "      <td>IT</td>\n",
       "      <td>F</td>\n",
       "      <td>Father</td>\n",
       "      <td>20</td>\n",
       "      <td>20</td>\n",
       "      <td>3</td>\n",
       "      <td>25</td>\n",
       "      <td>Yes</td>\n",
       "      <td>Good</td>\n",
       "      <td>Under-7</td>\n",
       "      <td>M</td>\n",
       "    </tr>\n",
       "    <tr>\n",
       "      <th>2</th>\n",
       "      <td>M</td>\n",
       "      <td>KW</td>\n",
       "      <td>KuwaIT</td>\n",
       "      <td>lowerlevel</td>\n",
       "      <td>G-04</td>\n",
       "      <td>A</td>\n",
       "      <td>IT</td>\n",
       "      <td>F</td>\n",
       "      <td>Father</td>\n",
       "      <td>10</td>\n",
       "      <td>7</td>\n",
       "      <td>0</td>\n",
       "      <td>30</td>\n",
       "      <td>No</td>\n",
       "      <td>Bad</td>\n",
       "      <td>Above-7</td>\n",
       "      <td>L</td>\n",
       "    </tr>\n",
       "    <tr>\n",
       "      <th>3</th>\n",
       "      <td>M</td>\n",
       "      <td>KW</td>\n",
       "      <td>KuwaIT</td>\n",
       "      <td>lowerlevel</td>\n",
       "      <td>G-04</td>\n",
       "      <td>A</td>\n",
       "      <td>IT</td>\n",
       "      <td>F</td>\n",
       "      <td>Father</td>\n",
       "      <td>30</td>\n",
       "      <td>25</td>\n",
       "      <td>5</td>\n",
       "      <td>35</td>\n",
       "      <td>No</td>\n",
       "      <td>Bad</td>\n",
       "      <td>Above-7</td>\n",
       "      <td>L</td>\n",
       "    </tr>\n",
       "    <tr>\n",
       "      <th>4</th>\n",
       "      <td>M</td>\n",
       "      <td>KW</td>\n",
       "      <td>KuwaIT</td>\n",
       "      <td>lowerlevel</td>\n",
       "      <td>G-04</td>\n",
       "      <td>A</td>\n",
       "      <td>IT</td>\n",
       "      <td>F</td>\n",
       "      <td>Father</td>\n",
       "      <td>40</td>\n",
       "      <td>50</td>\n",
       "      <td>12</td>\n",
       "      <td>50</td>\n",
       "      <td>No</td>\n",
       "      <td>Bad</td>\n",
       "      <td>Above-7</td>\n",
       "      <td>M</td>\n",
       "    </tr>\n",
       "  </tbody>\n",
       "</table>\n",
       "</div>"
      ],
      "text/plain": [
       "  gender NationalITy PlaceofBirth     StageID GradeID SectionID Topic  \\\n",
       "0      M          KW       KuwaIT  lowerlevel    G-04         A    IT   \n",
       "1      M          KW       KuwaIT  lowerlevel    G-04         A    IT   \n",
       "2      M          KW       KuwaIT  lowerlevel    G-04         A    IT   \n",
       "3      M          KW       KuwaIT  lowerlevel    G-04         A    IT   \n",
       "4      M          KW       KuwaIT  lowerlevel    G-04         A    IT   \n",
       "\n",
       "  Semester Relation  raisedhands  VisITedResources  AnnouncementsView  \\\n",
       "0        F   Father           15                16                  2   \n",
       "1        F   Father           20                20                  3   \n",
       "2        F   Father           10                 7                  0   \n",
       "3        F   Father           30                25                  5   \n",
       "4        F   Father           40                50                 12   \n",
       "\n",
       "   Discussion ParentAnsweringSurvey ParentschoolSatisfaction  \\\n",
       "0          20                   Yes                     Good   \n",
       "1          25                   Yes                     Good   \n",
       "2          30                    No                      Bad   \n",
       "3          35                    No                      Bad   \n",
       "4          50                    No                      Bad   \n",
       "\n",
       "  StudentAbsenceDays Class  \n",
       "0            Under-7     M  \n",
       "1            Under-7     M  \n",
       "2            Above-7     L  \n",
       "3            Above-7     L  \n",
       "4            Above-7     M  "
      ]
     },
     "execution_count": 2,
     "metadata": {},
     "output_type": "execute_result"
    }
   ],
   "source": [
    "edu=pd.read_csv(r\"C:\\Users\\diksh\\Downloads\\xAPI-Edu-Data.csv\",index_col=None,header=0)\n",
    "edu.head()"
   ]
  },
  {
   "cell_type": "code",
   "execution_count": 3,
   "metadata": {},
   "outputs": [
    {
     "data": {
      "text/plain": [
       "(480, 17)"
      ]
     },
     "execution_count": 3,
     "metadata": {},
     "output_type": "execute_result"
    }
   ],
   "source": [
    "edu.shape\n"
   ]
  },
  {
   "cell_type": "code",
   "execution_count": 4,
   "metadata": {},
   "outputs": [
    {
     "data": {
      "text/html": [
       "<div>\n",
       "<style scoped>\n",
       "    .dataframe tbody tr th:only-of-type {\n",
       "        vertical-align: middle;\n",
       "    }\n",
       "\n",
       "    .dataframe tbody tr th {\n",
       "        vertical-align: top;\n",
       "    }\n",
       "\n",
       "    .dataframe thead th {\n",
       "        text-align: right;\n",
       "    }\n",
       "</style>\n",
       "<table border=\"1\" class=\"dataframe\">\n",
       "  <thead>\n",
       "    <tr style=\"text-align: right;\">\n",
       "      <th></th>\n",
       "      <th>gender</th>\n",
       "      <th>NationalITy</th>\n",
       "      <th>PlaceofBirth</th>\n",
       "      <th>StageID</th>\n",
       "      <th>GradeID</th>\n",
       "      <th>SectionID</th>\n",
       "      <th>Topic</th>\n",
       "      <th>Semester</th>\n",
       "      <th>Relation</th>\n",
       "      <th>raisedhands</th>\n",
       "      <th>VisITedResources</th>\n",
       "      <th>AnnouncementsView</th>\n",
       "      <th>Discussion</th>\n",
       "      <th>ParentAnsweringSurvey</th>\n",
       "      <th>ParentschoolSatisfaction</th>\n",
       "      <th>StudentAbsenceDays</th>\n",
       "      <th>Class</th>\n",
       "    </tr>\n",
       "  </thead>\n",
       "  <tbody>\n",
       "    <tr>\n",
       "      <th>count</th>\n",
       "      <td>480</td>\n",
       "      <td>480</td>\n",
       "      <td>480</td>\n",
       "      <td>480</td>\n",
       "      <td>480</td>\n",
       "      <td>480</td>\n",
       "      <td>480</td>\n",
       "      <td>480</td>\n",
       "      <td>480</td>\n",
       "      <td>480.000000</td>\n",
       "      <td>480.000000</td>\n",
       "      <td>480.000000</td>\n",
       "      <td>480.000000</td>\n",
       "      <td>480</td>\n",
       "      <td>480</td>\n",
       "      <td>480</td>\n",
       "      <td>480</td>\n",
       "    </tr>\n",
       "    <tr>\n",
       "      <th>unique</th>\n",
       "      <td>2</td>\n",
       "      <td>14</td>\n",
       "      <td>14</td>\n",
       "      <td>3</td>\n",
       "      <td>10</td>\n",
       "      <td>3</td>\n",
       "      <td>12</td>\n",
       "      <td>2</td>\n",
       "      <td>2</td>\n",
       "      <td>NaN</td>\n",
       "      <td>NaN</td>\n",
       "      <td>NaN</td>\n",
       "      <td>NaN</td>\n",
       "      <td>2</td>\n",
       "      <td>2</td>\n",
       "      <td>2</td>\n",
       "      <td>3</td>\n",
       "    </tr>\n",
       "    <tr>\n",
       "      <th>top</th>\n",
       "      <td>M</td>\n",
       "      <td>KW</td>\n",
       "      <td>KuwaIT</td>\n",
       "      <td>MiddleSchool</td>\n",
       "      <td>G-02</td>\n",
       "      <td>A</td>\n",
       "      <td>IT</td>\n",
       "      <td>F</td>\n",
       "      <td>Father</td>\n",
       "      <td>NaN</td>\n",
       "      <td>NaN</td>\n",
       "      <td>NaN</td>\n",
       "      <td>NaN</td>\n",
       "      <td>Yes</td>\n",
       "      <td>Good</td>\n",
       "      <td>Under-7</td>\n",
       "      <td>M</td>\n",
       "    </tr>\n",
       "    <tr>\n",
       "      <th>freq</th>\n",
       "      <td>305</td>\n",
       "      <td>179</td>\n",
       "      <td>180</td>\n",
       "      <td>248</td>\n",
       "      <td>147</td>\n",
       "      <td>283</td>\n",
       "      <td>95</td>\n",
       "      <td>245</td>\n",
       "      <td>283</td>\n",
       "      <td>NaN</td>\n",
       "      <td>NaN</td>\n",
       "      <td>NaN</td>\n",
       "      <td>NaN</td>\n",
       "      <td>270</td>\n",
       "      <td>292</td>\n",
       "      <td>289</td>\n",
       "      <td>211</td>\n",
       "    </tr>\n",
       "    <tr>\n",
       "      <th>mean</th>\n",
       "      <td>NaN</td>\n",
       "      <td>NaN</td>\n",
       "      <td>NaN</td>\n",
       "      <td>NaN</td>\n",
       "      <td>NaN</td>\n",
       "      <td>NaN</td>\n",
       "      <td>NaN</td>\n",
       "      <td>NaN</td>\n",
       "      <td>NaN</td>\n",
       "      <td>46.775000</td>\n",
       "      <td>54.797917</td>\n",
       "      <td>37.918750</td>\n",
       "      <td>43.283333</td>\n",
       "      <td>NaN</td>\n",
       "      <td>NaN</td>\n",
       "      <td>NaN</td>\n",
       "      <td>NaN</td>\n",
       "    </tr>\n",
       "    <tr>\n",
       "      <th>std</th>\n",
       "      <td>NaN</td>\n",
       "      <td>NaN</td>\n",
       "      <td>NaN</td>\n",
       "      <td>NaN</td>\n",
       "      <td>NaN</td>\n",
       "      <td>NaN</td>\n",
       "      <td>NaN</td>\n",
       "      <td>NaN</td>\n",
       "      <td>NaN</td>\n",
       "      <td>30.779223</td>\n",
       "      <td>33.080007</td>\n",
       "      <td>26.611244</td>\n",
       "      <td>27.637735</td>\n",
       "      <td>NaN</td>\n",
       "      <td>NaN</td>\n",
       "      <td>NaN</td>\n",
       "      <td>NaN</td>\n",
       "    </tr>\n",
       "    <tr>\n",
       "      <th>min</th>\n",
       "      <td>NaN</td>\n",
       "      <td>NaN</td>\n",
       "      <td>NaN</td>\n",
       "      <td>NaN</td>\n",
       "      <td>NaN</td>\n",
       "      <td>NaN</td>\n",
       "      <td>NaN</td>\n",
       "      <td>NaN</td>\n",
       "      <td>NaN</td>\n",
       "      <td>0.000000</td>\n",
       "      <td>0.000000</td>\n",
       "      <td>0.000000</td>\n",
       "      <td>1.000000</td>\n",
       "      <td>NaN</td>\n",
       "      <td>NaN</td>\n",
       "      <td>NaN</td>\n",
       "      <td>NaN</td>\n",
       "    </tr>\n",
       "    <tr>\n",
       "      <th>25%</th>\n",
       "      <td>NaN</td>\n",
       "      <td>NaN</td>\n",
       "      <td>NaN</td>\n",
       "      <td>NaN</td>\n",
       "      <td>NaN</td>\n",
       "      <td>NaN</td>\n",
       "      <td>NaN</td>\n",
       "      <td>NaN</td>\n",
       "      <td>NaN</td>\n",
       "      <td>15.750000</td>\n",
       "      <td>20.000000</td>\n",
       "      <td>14.000000</td>\n",
       "      <td>20.000000</td>\n",
       "      <td>NaN</td>\n",
       "      <td>NaN</td>\n",
       "      <td>NaN</td>\n",
       "      <td>NaN</td>\n",
       "    </tr>\n",
       "    <tr>\n",
       "      <th>50%</th>\n",
       "      <td>NaN</td>\n",
       "      <td>NaN</td>\n",
       "      <td>NaN</td>\n",
       "      <td>NaN</td>\n",
       "      <td>NaN</td>\n",
       "      <td>NaN</td>\n",
       "      <td>NaN</td>\n",
       "      <td>NaN</td>\n",
       "      <td>NaN</td>\n",
       "      <td>50.000000</td>\n",
       "      <td>65.000000</td>\n",
       "      <td>33.000000</td>\n",
       "      <td>39.000000</td>\n",
       "      <td>NaN</td>\n",
       "      <td>NaN</td>\n",
       "      <td>NaN</td>\n",
       "      <td>NaN</td>\n",
       "    </tr>\n",
       "    <tr>\n",
       "      <th>75%</th>\n",
       "      <td>NaN</td>\n",
       "      <td>NaN</td>\n",
       "      <td>NaN</td>\n",
       "      <td>NaN</td>\n",
       "      <td>NaN</td>\n",
       "      <td>NaN</td>\n",
       "      <td>NaN</td>\n",
       "      <td>NaN</td>\n",
       "      <td>NaN</td>\n",
       "      <td>75.000000</td>\n",
       "      <td>84.000000</td>\n",
       "      <td>58.000000</td>\n",
       "      <td>70.000000</td>\n",
       "      <td>NaN</td>\n",
       "      <td>NaN</td>\n",
       "      <td>NaN</td>\n",
       "      <td>NaN</td>\n",
       "    </tr>\n",
       "    <tr>\n",
       "      <th>max</th>\n",
       "      <td>NaN</td>\n",
       "      <td>NaN</td>\n",
       "      <td>NaN</td>\n",
       "      <td>NaN</td>\n",
       "      <td>NaN</td>\n",
       "      <td>NaN</td>\n",
       "      <td>NaN</td>\n",
       "      <td>NaN</td>\n",
       "      <td>NaN</td>\n",
       "      <td>100.000000</td>\n",
       "      <td>99.000000</td>\n",
       "      <td>98.000000</td>\n",
       "      <td>99.000000</td>\n",
       "      <td>NaN</td>\n",
       "      <td>NaN</td>\n",
       "      <td>NaN</td>\n",
       "      <td>NaN</td>\n",
       "    </tr>\n",
       "  </tbody>\n",
       "</table>\n",
       "</div>"
      ],
      "text/plain": [
       "       gender NationalITy PlaceofBirth       StageID GradeID SectionID Topic  \\\n",
       "count     480         480          480           480     480       480   480   \n",
       "unique      2          14           14             3      10         3    12   \n",
       "top         M          KW       KuwaIT  MiddleSchool    G-02         A    IT   \n",
       "freq      305         179          180           248     147       283    95   \n",
       "mean      NaN         NaN          NaN           NaN     NaN       NaN   NaN   \n",
       "std       NaN         NaN          NaN           NaN     NaN       NaN   NaN   \n",
       "min       NaN         NaN          NaN           NaN     NaN       NaN   NaN   \n",
       "25%       NaN         NaN          NaN           NaN     NaN       NaN   NaN   \n",
       "50%       NaN         NaN          NaN           NaN     NaN       NaN   NaN   \n",
       "75%       NaN         NaN          NaN           NaN     NaN       NaN   NaN   \n",
       "max       NaN         NaN          NaN           NaN     NaN       NaN   NaN   \n",
       "\n",
       "       Semester Relation  raisedhands  VisITedResources  AnnouncementsView  \\\n",
       "count       480      480   480.000000        480.000000         480.000000   \n",
       "unique        2        2          NaN               NaN                NaN   \n",
       "top           F   Father          NaN               NaN                NaN   \n",
       "freq        245      283          NaN               NaN                NaN   \n",
       "mean        NaN      NaN    46.775000         54.797917          37.918750   \n",
       "std         NaN      NaN    30.779223         33.080007          26.611244   \n",
       "min         NaN      NaN     0.000000          0.000000           0.000000   \n",
       "25%         NaN      NaN    15.750000         20.000000          14.000000   \n",
       "50%         NaN      NaN    50.000000         65.000000          33.000000   \n",
       "75%         NaN      NaN    75.000000         84.000000          58.000000   \n",
       "max         NaN      NaN   100.000000         99.000000          98.000000   \n",
       "\n",
       "        Discussion ParentAnsweringSurvey ParentschoolSatisfaction  \\\n",
       "count   480.000000                   480                      480   \n",
       "unique         NaN                     2                        2   \n",
       "top            NaN                   Yes                     Good   \n",
       "freq           NaN                   270                      292   \n",
       "mean     43.283333                   NaN                      NaN   \n",
       "std      27.637735                   NaN                      NaN   \n",
       "min       1.000000                   NaN                      NaN   \n",
       "25%      20.000000                   NaN                      NaN   \n",
       "50%      39.000000                   NaN                      NaN   \n",
       "75%      70.000000                   NaN                      NaN   \n",
       "max      99.000000                   NaN                      NaN   \n",
       "\n",
       "       StudentAbsenceDays Class  \n",
       "count                 480   480  \n",
       "unique                  2     3  \n",
       "top               Under-7     M  \n",
       "freq                  289   211  \n",
       "mean                  NaN   NaN  \n",
       "std                   NaN   NaN  \n",
       "min                   NaN   NaN  \n",
       "25%                   NaN   NaN  \n",
       "50%                   NaN   NaN  \n",
       "75%                   NaN   NaN  \n",
       "max                   NaN   NaN  "
      ]
     },
     "execution_count": 4,
     "metadata": {},
     "output_type": "execute_result"
    }
   ],
   "source": [
    "edu.describe(include='all')"
   ]
  },
  {
   "cell_type": "markdown",
   "metadata": {},
   "source": [
    "## Pre processing"
   ]
  },
  {
   "cell_type": "code",
   "execution_count": 5,
   "metadata": {},
   "outputs": [],
   "source": [
    "#create a copy of the dataframe\n",
    "edu1=pd.DataFrame.copy(edu)"
   ]
  },
  {
   "cell_type": "code",
   "execution_count": 6,
   "metadata": {},
   "outputs": [
    {
     "data": {
      "text/plain": [
       "Index(['gender', 'NationalITy', 'PlaceofBirth', 'StageID', 'GradeID',\n",
       "       'SectionID', 'Topic', 'Semester', 'Relation', 'raisedhands',\n",
       "       'VisITedResources', 'AnnouncementsView', 'Discussion',\n",
       "       'ParentAnsweringSurvey', 'ParentschoolSatisfaction',\n",
       "       'StudentAbsenceDays', 'Class'],\n",
       "      dtype='object')"
      ]
     },
     "execution_count": 6,
     "metadata": {},
     "output_type": "execute_result"
    }
   ],
   "source": [
    "edu1.columns"
   ]
  },
  {
   "cell_type": "code",
   "execution_count": 7,
   "metadata": {},
   "outputs": [
    {
     "data": {
      "text/plain": [
       "gender                      0\n",
       "NationalITy                 0\n",
       "PlaceofBirth                0\n",
       "StageID                     0\n",
       "GradeID                     0\n",
       "SectionID                   0\n",
       "Topic                       0\n",
       "Semester                    0\n",
       "Relation                    0\n",
       "raisedhands                 0\n",
       "VisITedResources            0\n",
       "AnnouncementsView           0\n",
       "Discussion                  0\n",
       "ParentAnsweringSurvey       0\n",
       "ParentschoolSatisfaction    0\n",
       "StudentAbsenceDays          0\n",
       "Class                       0\n",
       "dtype: int64"
      ]
     },
     "execution_count": 7,
     "metadata": {},
     "output_type": "execute_result"
    }
   ],
   "source": [
    "edu1.isnull().sum()"
   ]
  },
  {
   "cell_type": "code",
   "execution_count": 8,
   "metadata": {},
   "outputs": [],
   "source": [
    "# insight: there are no missing values in the data"
   ]
  },
  {
   "cell_type": "code",
   "execution_count": 9,
   "metadata": {},
   "outputs": [
    {
     "data": {
      "text/plain": [
       "gender                      object\n",
       "NationalITy                 object\n",
       "PlaceofBirth                object\n",
       "StageID                     object\n",
       "GradeID                     object\n",
       "SectionID                   object\n",
       "Topic                       object\n",
       "Semester                    object\n",
       "Relation                    object\n",
       "raisedhands                  int64\n",
       "VisITedResources             int64\n",
       "AnnouncementsView            int64\n",
       "Discussion                   int64\n",
       "ParentAnsweringSurvey       object\n",
       "ParentschoolSatisfaction    object\n",
       "StudentAbsenceDays          object\n",
       "Class                       object\n",
       "dtype: object"
      ]
     },
     "execution_count": 9,
     "metadata": {},
     "output_type": "execute_result"
    }
   ],
   "source": [
    "edu1.dtypes"
   ]
  },
  {
   "cell_type": "code",
   "execution_count": 10,
   "metadata": {},
   "outputs": [
    {
     "name": "stdout",
     "output_type": "stream",
     "text": [
      "{'gender': array(['M', 'F'], dtype=object)}\n",
      "{'NationalITy': array(['KW', 'lebanon', 'Egypt', 'SaudiArabia', 'USA', 'Jordan',\n",
      "       'venzuela', 'Iran', 'Tunis', 'Morocco', 'Syria', 'Palestine',\n",
      "       'Iraq', 'Lybia'], dtype=object)}\n",
      "{'PlaceofBirth': array(['KuwaIT', 'lebanon', 'Egypt', 'SaudiArabia', 'USA', 'Jordan',\n",
      "       'venzuela', 'Iran', 'Tunis', 'Morocco', 'Syria', 'Iraq',\n",
      "       'Palestine', 'Lybia'], dtype=object)}\n",
      "{'StageID': array(['lowerlevel', 'MiddleSchool', 'HighSchool'], dtype=object)}\n",
      "{'GradeID': array(['G-04', 'G-07', 'G-08', 'G-06', 'G-05', 'G-09', 'G-12', 'G-11',\n",
      "       'G-10', 'G-02'], dtype=object)}\n",
      "{'SectionID': array(['A', 'B', 'C'], dtype=object)}\n",
      "{'Topic': array(['IT', 'Math', 'Arabic', 'Science', 'English', 'Quran', 'Spanish',\n",
      "       'French', 'History', 'Biology', 'Chemistry', 'Geology'],\n",
      "      dtype=object)}\n",
      "{'Semester': array(['F', 'S'], dtype=object)}\n",
      "{'Relation': array(['Father', 'Mum'], dtype=object)}\n",
      "{'raisedhands': array([ 15,  20,  10,  30,  40,  42,  35,  50,  12,  70,  19,   5,  62,\n",
      "        36,  55,  69,  60,   2,   0,   8,  25,  75,   4,  45,  14,  33,\n",
      "         7,  13,  29,  39,  49,  16,  28,  27,  21,  80,  17,  65,  22,\n",
      "        11,   1,   3, 100,   6,  90,  77,  24,  66,  23,  82,  72,  51,\n",
      "        85,  87,  95,  81,  53,  92,  83,  67,  96,  57,  73,   9,  32,\n",
      "        52,  59,  61,  79,  18,  74,  97,  41,  71,  98,  78,  89,  88,\n",
      "        86,  76,  99,  84], dtype=int64)}\n",
      "{'VisITedResources': array([16, 20,  7, 25, 50, 30, 12, 10, 21, 80, 88,  6,  1, 14, 70, 40, 13,\n",
      "       15, 60,  0,  2, 19, 85, 90,  5, 22, 11, 54, 35, 33,  4, 39, 75, 69,\n",
      "        3,  8, 89, 44, 92, 26, 27, 29, 98,  9, 42, 65, 79, 55, 63, 91, 51,\n",
      "       58, 68, 82, 72, 52, 62, 71, 66, 43, 95, 31, 41, 81, 61, 83, 84, 17,\n",
      "       94, 48, 86, 74, 76, 97, 87, 99, 34, 64, 28, 38, 36, 24, 59, 57, 77,\n",
      "       18, 93, 96, 78], dtype=int64)}\n",
      "{'AnnouncementsView': array([ 2,  3,  0,  5, 12, 13, 15, 16, 25, 30, 19, 44, 22, 20, 35, 36, 40,\n",
      "       33,  4, 52, 50, 10,  9,  8, 17, 26, 37,  7, 28,  1, 39,  6, 32, 70,\n",
      "       18, 23, 11, 29, 49, 55, 38, 41, 51, 95, 85, 71, 98, 73, 48, 58, 93,\n",
      "       83, 53, 63, 62, 82, 72, 42, 46, 77, 21, 88, 66, 86, 80, 56, 91, 65,\n",
      "       76, 24, 74, 59, 79, 34, 69, 89, 31, 60, 54, 57, 64, 87, 75, 67, 43,\n",
      "       45, 14, 78], dtype=int64)}\n",
      "{'Discussion': array([20, 25, 30, 35, 50, 70, 17, 22, 80, 12, 11, 19, 60, 66, 90, 96, 99,\n",
      "       40, 33, 43, 16,  4, 88, 77, 75,  1,  5,  2,  8, 13, 44,  9, 55, 10,\n",
      "       15,  7,  3, 14, 69, 59, 89, 41, 91, 49, 73, 23, 53, 93, 51, 83, 24,\n",
      "       84, 61, 94, 34, 81, 29, 46, 26,  6, 76, 86, 85, 65, 95, 64, 32, 37,\n",
      "       36, 27, 39, 74, 79, 21, 31, 28, 38, 48, 97, 98, 63, 72, 82, 71, 45,\n",
      "       68, 92, 58, 57, 62], dtype=int64)}\n",
      "{'ParentAnsweringSurvey': array(['Yes', 'No'], dtype=object)}\n",
      "{'ParentschoolSatisfaction': array(['Good', 'Bad'], dtype=object)}\n",
      "{'StudentAbsenceDays': array(['Under-7', 'Above-7'], dtype=object)}\n",
      "{'Class': array(['M', 'L', 'H'], dtype=object)}\n"
     ]
    }
   ],
   "source": [
    "for i in edu1.columns:\n",
    "    print({i:edu1[i].unique()})"
   ]
  },
  {
   "cell_type": "code",
   "execution_count": 11,
   "metadata": {},
   "outputs": [
    {
     "data": {
      "text/plain": [
       "2"
      ]
     },
     "execution_count": 11,
     "metadata": {},
     "output_type": "execute_result"
    }
   ],
   "source": [
    "edu1.duplicated().sum()\n"
   ]
  },
  {
   "cell_type": "markdown",
   "metadata": {},
   "source": [
    "## Converting catorgircal to Numerical values "
   ]
  },
  {
   "cell_type": "code",
   "execution_count": 12,
   "metadata": {},
   "outputs": [
    {
     "data": {
      "text/plain": [
       "['gender',\n",
       " 'NationalITy',\n",
       " 'PlaceofBirth',\n",
       " 'StageID',\n",
       " 'GradeID',\n",
       " 'SectionID',\n",
       " 'Topic',\n",
       " 'Semester',\n",
       " 'Relation',\n",
       " 'ParentAnsweringSurvey',\n",
       " 'ParentschoolSatisfaction',\n",
       " 'StudentAbsenceDays',\n",
       " 'Class']"
      ]
     },
     "execution_count": 12,
     "metadata": {},
     "output_type": "execute_result"
    }
   ],
   "source": [
    "# to get the list of variable for catigorcal\n",
    "colname=[]\n",
    "for x in edu1.columns:\n",
    "    if edu1[x].dtype=='object':\n",
    "        colname.append(x)\n",
    "colname"
   ]
  },
  {
   "cell_type": "code",
   "execution_count": 13,
   "metadata": {},
   "outputs": [],
   "source": [
    "#applying lable encoder for pre processing\n",
    "# For preprocessing the data\n",
    "from sklearn.preprocessing import LabelEncoder\n",
    "\n",
    "le=LabelEncoder()\n",
    "\n",
    "for x in colname:\n",
    "    edu1[x]=le.fit_transform(edu1[x])\n",
    "    "
   ]
  },
  {
   "cell_type": "code",
   "execution_count": 14,
   "metadata": {},
   "outputs": [
    {
     "data": {
      "text/html": [
       "<div>\n",
       "<style scoped>\n",
       "    .dataframe tbody tr th:only-of-type {\n",
       "        vertical-align: middle;\n",
       "    }\n",
       "\n",
       "    .dataframe tbody tr th {\n",
       "        vertical-align: top;\n",
       "    }\n",
       "\n",
       "    .dataframe thead th {\n",
       "        text-align: right;\n",
       "    }\n",
       "</style>\n",
       "<table border=\"1\" class=\"dataframe\">\n",
       "  <thead>\n",
       "    <tr style=\"text-align: right;\">\n",
       "      <th></th>\n",
       "      <th>gender</th>\n",
       "      <th>NationalITy</th>\n",
       "      <th>PlaceofBirth</th>\n",
       "      <th>StageID</th>\n",
       "      <th>GradeID</th>\n",
       "      <th>SectionID</th>\n",
       "      <th>Topic</th>\n",
       "      <th>Semester</th>\n",
       "      <th>Relation</th>\n",
       "      <th>raisedhands</th>\n",
       "      <th>VisITedResources</th>\n",
       "      <th>AnnouncementsView</th>\n",
       "      <th>Discussion</th>\n",
       "      <th>ParentAnsweringSurvey</th>\n",
       "      <th>ParentschoolSatisfaction</th>\n",
       "      <th>StudentAbsenceDays</th>\n",
       "      <th>Class</th>\n",
       "    </tr>\n",
       "  </thead>\n",
       "  <tbody>\n",
       "    <tr>\n",
       "      <th>0</th>\n",
       "      <td>1</td>\n",
       "      <td>4</td>\n",
       "      <td>4</td>\n",
       "      <td>2</td>\n",
       "      <td>1</td>\n",
       "      <td>0</td>\n",
       "      <td>7</td>\n",
       "      <td>0</td>\n",
       "      <td>0</td>\n",
       "      <td>15</td>\n",
       "      <td>16</td>\n",
       "      <td>2</td>\n",
       "      <td>20</td>\n",
       "      <td>1</td>\n",
       "      <td>1</td>\n",
       "      <td>1</td>\n",
       "      <td>2</td>\n",
       "    </tr>\n",
       "    <tr>\n",
       "      <th>1</th>\n",
       "      <td>1</td>\n",
       "      <td>4</td>\n",
       "      <td>4</td>\n",
       "      <td>2</td>\n",
       "      <td>1</td>\n",
       "      <td>0</td>\n",
       "      <td>7</td>\n",
       "      <td>0</td>\n",
       "      <td>0</td>\n",
       "      <td>20</td>\n",
       "      <td>20</td>\n",
       "      <td>3</td>\n",
       "      <td>25</td>\n",
       "      <td>1</td>\n",
       "      <td>1</td>\n",
       "      <td>1</td>\n",
       "      <td>2</td>\n",
       "    </tr>\n",
       "    <tr>\n",
       "      <th>2</th>\n",
       "      <td>1</td>\n",
       "      <td>4</td>\n",
       "      <td>4</td>\n",
       "      <td>2</td>\n",
       "      <td>1</td>\n",
       "      <td>0</td>\n",
       "      <td>7</td>\n",
       "      <td>0</td>\n",
       "      <td>0</td>\n",
       "      <td>10</td>\n",
       "      <td>7</td>\n",
       "      <td>0</td>\n",
       "      <td>30</td>\n",
       "      <td>0</td>\n",
       "      <td>0</td>\n",
       "      <td>0</td>\n",
       "      <td>1</td>\n",
       "    </tr>\n",
       "    <tr>\n",
       "      <th>3</th>\n",
       "      <td>1</td>\n",
       "      <td>4</td>\n",
       "      <td>4</td>\n",
       "      <td>2</td>\n",
       "      <td>1</td>\n",
       "      <td>0</td>\n",
       "      <td>7</td>\n",
       "      <td>0</td>\n",
       "      <td>0</td>\n",
       "      <td>30</td>\n",
       "      <td>25</td>\n",
       "      <td>5</td>\n",
       "      <td>35</td>\n",
       "      <td>0</td>\n",
       "      <td>0</td>\n",
       "      <td>0</td>\n",
       "      <td>1</td>\n",
       "    </tr>\n",
       "    <tr>\n",
       "      <th>4</th>\n",
       "      <td>1</td>\n",
       "      <td>4</td>\n",
       "      <td>4</td>\n",
       "      <td>2</td>\n",
       "      <td>1</td>\n",
       "      <td>0</td>\n",
       "      <td>7</td>\n",
       "      <td>0</td>\n",
       "      <td>0</td>\n",
       "      <td>40</td>\n",
       "      <td>50</td>\n",
       "      <td>12</td>\n",
       "      <td>50</td>\n",
       "      <td>0</td>\n",
       "      <td>0</td>\n",
       "      <td>0</td>\n",
       "      <td>2</td>\n",
       "    </tr>\n",
       "  </tbody>\n",
       "</table>\n",
       "</div>"
      ],
      "text/plain": [
       "   gender  NationalITy  PlaceofBirth  StageID  GradeID  SectionID  Topic  \\\n",
       "0       1            4             4        2        1          0      7   \n",
       "1       1            4             4        2        1          0      7   \n",
       "2       1            4             4        2        1          0      7   \n",
       "3       1            4             4        2        1          0      7   \n",
       "4       1            4             4        2        1          0      7   \n",
       "\n",
       "   Semester  Relation  raisedhands  VisITedResources  AnnouncementsView  \\\n",
       "0         0         0           15                16                  2   \n",
       "1         0         0           20                20                  3   \n",
       "2         0         0           10                 7                  0   \n",
       "3         0         0           30                25                  5   \n",
       "4         0         0           40                50                 12   \n",
       "\n",
       "   Discussion  ParentAnsweringSurvey  ParentschoolSatisfaction  \\\n",
       "0          20                      1                         1   \n",
       "1          25                      1                         1   \n",
       "2          30                      0                         0   \n",
       "3          35                      0                         0   \n",
       "4          50                      0                         0   \n",
       "\n",
       "   StudentAbsenceDays  Class  \n",
       "0                   1      2  \n",
       "1                   1      2  \n",
       "2                   0      1  \n",
       "3                   0      1  \n",
       "4                   0      2  "
      ]
     },
     "execution_count": 14,
     "metadata": {},
     "output_type": "execute_result"
    }
   ],
   "source": [
    "edu1.head()"
   ]
  },
  {
   "cell_type": "code",
   "execution_count": 15,
   "metadata": {},
   "outputs": [],
   "source": [
    "#creating the x and y values \n",
    "X=edu1.values[:,0:-1] #-->0 to -2 which is equivaltent to 0 to 12 which will take fro 0 to 11 the another way of writing this is 0:-1\n",
    "Y=edu1.values[:,-1]"
   ]
  },
  {
   "cell_type": "code",
   "execution_count": 16,
   "metadata": {},
   "outputs": [
    {
     "data": {
      "text/plain": [
       "(480,)"
      ]
     },
     "execution_count": 16,
     "metadata": {},
     "output_type": "execute_result"
    }
   ],
   "source": [
    "Y.shape"
   ]
  },
  {
   "cell_type": "code",
   "execution_count": 17,
   "metadata": {},
   "outputs": [
    {
     "name": "stdout",
     "output_type": "stream",
     "text": [
      "[[ 0.7574764  -0.1402013  -0.15155299 ...  0.8819171   0.80239368\n",
      "   0.81295735]\n",
      " [ 0.7574764  -0.1402013  -0.15155299 ...  0.8819171   0.80239368\n",
      "   0.81295735]\n",
      " [ 0.7574764  -0.1402013  -0.15155299 ... -1.13389342 -1.24627103\n",
      "  -1.23007683]\n",
      " ...\n",
      " [-1.32017315 -0.54560266 -0.53241913 ... -1.13389342 -1.24627103\n",
      "   0.81295735]\n",
      " [-1.32017315 -0.54560266 -0.53241913 ... -1.13389342 -1.24627103\n",
      "  -1.23007683]\n",
      " [-1.32017315 -0.54560266 -0.53241913 ... -1.13389342 -1.24627103\n",
      "  -1.23007683]]\n"
     ]
    }
   ],
   "source": [
    "from sklearn.preprocessing import StandardScaler\n",
    "scaler=StandardScaler()\n",
    "scaler.fit(X)\n",
    "X=scaler.transform(X)\n",
    "#x=scaler.fit_transform(X)\n",
    "print(X)"
   ]
  },
  {
   "cell_type": "markdown",
   "metadata": {},
   "source": [
    "## Training Phase"
   ]
  },
  {
   "cell_type": "code",
   "execution_count": 18,
   "metadata": {},
   "outputs": [],
   "source": [
    "from sklearn.model_selection import train_test_split\n",
    "\n",
    "#split the data into test and train\n",
    "X_train,X_test,Y_train,Y_test=train_test_split(X,Y,test_size=0.2,random_state=10)"
   ]
  },
  {
   "cell_type": "code",
   "execution_count": 19,
   "metadata": {},
   "outputs": [
    {
     "name": "stdout",
     "output_type": "stream",
     "text": [
      "(384, 16)\n",
      "(384,)\n",
      "(96, 16)\n",
      "(96,)\n"
     ]
    }
   ],
   "source": [
    "print(X_train.shape)\n",
    "print(Y_train.shape)\n",
    "print(X_test.shape)\n",
    "print(Y_test.shape)"
   ]
  },
  {
   "cell_type": "code",
   "execution_count": 20,
   "metadata": {},
   "outputs": [
    {
     "name": "stdout",
     "output_type": "stream",
     "text": [
      "[0 2 2 1 2 0 0 0 2 1 2 2 2 2 2 2 1 0 2 2 1 2 1 2 2 1 0 0 2 0 2 0 1 2 2 1 2\n",
      " 2 1 0 2 1 2 1 2 2 0 2 2 0 2 1 2 2 2 0 0 1 2 0 0 1 0 2 2 2 2 0 1 0 2 1 2 2\n",
      " 2 2 1 1 2 0 1 0 1 1 2 0 1 0 0 2 0 1 2 2 0 0]\n",
      "[-0.18937794 -1.40606545  1.59544339]\n",
      "[[-0.23374106 -0.20091011  0.29639902 -0.26949596 -0.49056957  0.08291724\n",
      "  -0.14332525  0.02887985  0.42978042  0.81158964  0.4829869   0.32158494\n",
      "   0.40410823  0.346182    0.23697169  1.1468254 ]\n",
      " [ 0.27651169  0.34408589 -0.35342731  0.44861223  0.55200523  0.03544186\n",
      "   0.02445637  0.06347401 -0.23572834 -0.82675725 -0.64370987 -0.65644349\n",
      "  -0.35032309 -0.40528263 -0.1852358  -1.27372642]\n",
      " [-0.04277063 -0.14317578  0.0570283  -0.17911627 -0.06143567 -0.1183591\n",
      "   0.11886888 -0.09235386 -0.19405208  0.01516761  0.16072297  0.33485855\n",
      "  -0.05378514  0.05910063 -0.05173589  0.12690102]]\n"
     ]
    }
   ],
   "source": [
    "from sklearn.linear_model import LogisticRegression\n",
    "#create a model object\n",
    "classifier=LogisticRegression()\n",
    "#train the model object\n",
    "classifier.fit(X_train,Y_train)# fit function is used to train the model\n",
    "\n",
    "Y_pred=classifier.predict(X_test)\n",
    "print(Y_pred)\n",
    "\n",
    "\n",
    "#print intercept and coeeficients\n",
    "print(classifier.intercept_) #to get dependent values \n",
    "print(classifier.coef_)"
   ]
  },
  {
   "cell_type": "code",
   "execution_count": 21,
   "metadata": {},
   "outputs": [
    {
     "data": {
      "text/plain": [
       "array([[5.07175032e-01, 6.49662405e-03, 4.86328344e-01],\n",
       "       [8.89667991e-02, 1.68878621e-01, 7.42154580e-01],\n",
       "       [1.55896251e-02, 1.34927588e-01, 8.49482787e-01],\n",
       "       [7.69037039e-03, 7.19663386e-01, 2.72646243e-01],\n",
       "       [4.43586690e-01, 9.83478373e-03, 5.46578526e-01],\n",
       "       [9.01505895e-01, 1.04888248e-05, 9.84836165e-02],\n",
       "       [6.81123326e-01, 1.32005631e-03, 3.17556618e-01],\n",
       "       [5.88810429e-01, 2.12164682e-03, 4.09067924e-01],\n",
       "       [9.24404687e-03, 3.25392031e-01, 6.65363922e-01],\n",
       "       [1.25344127e-04, 9.54302903e-01, 4.55717526e-02],\n",
       "       [4.76619782e-01, 5.88564642e-04, 5.22791653e-01],\n",
       "       [2.07704140e-02, 4.08035608e-01, 5.71193978e-01],\n",
       "       [4.44061564e-01, 9.18550905e-03, 5.46752927e-01],\n",
       "       [1.43232262e-01, 1.15606743e-01, 7.41160996e-01],\n",
       "       [1.97418899e-01, 7.29926689e-03, 7.95281834e-01],\n",
       "       [4.24691562e-01, 2.58128144e-03, 5.72727156e-01],\n",
       "       [1.80194859e-04, 9.59880787e-01, 3.99390180e-02],\n",
       "       [7.30051480e-01, 3.27499774e-03, 2.66673522e-01],\n",
       "       [8.21641307e-02, 1.01100203e-02, 9.07725849e-01],\n",
       "       [4.42750978e-01, 1.76882307e-03, 5.55480199e-01],\n",
       "       [1.40414262e-04, 9.39210031e-01, 6.06495546e-02],\n",
       "       [1.82226053e-01, 1.67737153e-03, 8.16096575e-01],\n",
       "       [5.16378105e-03, 6.75865461e-01, 3.18970758e-01],\n",
       "       [4.83765604e-01, 9.16096446e-04, 5.15318299e-01],\n",
       "       [1.27828035e-01, 1.60363035e-02, 8.56135662e-01],\n",
       "       [1.76708474e-04, 9.31974399e-01, 6.78488922e-02],\n",
       "       [7.28092467e-01, 2.60826789e-05, 2.71881451e-01],\n",
       "       [6.45669011e-01, 2.80499886e-03, 3.51525990e-01],\n",
       "       [7.34602168e-02, 1.56232486e-02, 9.10916535e-01],\n",
       "       [9.35060877e-01, 1.88226502e-05, 6.49203000e-02],\n",
       "       [4.88847215e-01, 6.66388258e-04, 5.10486397e-01],\n",
       "       [5.18237962e-01, 1.30417742e-03, 4.80457860e-01],\n",
       "       [4.87360604e-05, 9.38994860e-01, 6.09564037e-02],\n",
       "       [4.90316020e-01, 1.52629100e-02, 4.94421070e-01],\n",
       "       [3.41213955e-01, 2.14877105e-03, 6.56637274e-01],\n",
       "       [1.14325967e-03, 8.68932668e-01, 1.29924073e-01],\n",
       "       [2.02975282e-01, 4.41521726e-03, 7.92609501e-01],\n",
       "       [2.54325169e-01, 6.18164465e-02, 6.83858384e-01],\n",
       "       [2.30769858e-03, 8.08551858e-01, 1.89140444e-01],\n",
       "       [6.02383716e-01, 2.25491980e-03, 3.95361364e-01],\n",
       "       [1.05343918e-01, 1.17898984e-02, 8.82866183e-01],\n",
       "       [1.74531483e-03, 8.73945260e-01, 1.24309425e-01],\n",
       "       [4.06567226e-01, 5.17931831e-02, 5.41639591e-01],\n",
       "       [1.64465236e-03, 7.57916208e-01, 2.40439140e-01],\n",
       "       [2.24033272e-01, 2.42042295e-02, 7.51762499e-01],\n",
       "       [4.83770670e-01, 3.16680391e-04, 5.15912650e-01],\n",
       "       [8.71789336e-01, 8.42864467e-05, 1.28126378e-01],\n",
       "       [2.34169311e-01, 2.77038439e-03, 7.63060305e-01],\n",
       "       [7.25928283e-02, 5.64469632e-02, 8.70960208e-01],\n",
       "       [6.32248349e-01, 1.30952344e-03, 3.66442127e-01],\n",
       "       [1.78211480e-01, 1.81411120e-02, 8.03647408e-01],\n",
       "       [5.04770435e-03, 7.79304702e-01, 2.15647593e-01],\n",
       "       [4.39646071e-01, 1.64137083e-02, 5.43940221e-01],\n",
       "       [6.87366089e-02, 1.23551314e-02, 9.18908260e-01],\n",
       "       [9.82595263e-02, 7.51314702e-03, 8.94227327e-01],\n",
       "       [5.44021006e-01, 4.68043264e-04, 4.55510950e-01],\n",
       "       [7.90266661e-01, 8.73569183e-05, 2.09645982e-01],\n",
       "       [5.22820309e-04, 8.99617536e-01, 9.98596434e-02],\n",
       "       [7.29273402e-02, 2.57224887e-02, 9.01350171e-01],\n",
       "       [8.56536295e-01, 4.29851761e-05, 1.43420720e-01],\n",
       "       [9.24792784e-01, 4.44117922e-05, 7.51628040e-02],\n",
       "       [1.86351731e-04, 9.09527564e-01, 9.02860841e-02],\n",
       "       [7.43821313e-01, 3.52661680e-04, 2.55826026e-01],\n",
       "       [6.82394042e-02, 3.50719653e-02, 8.96688630e-01],\n",
       "       [1.09781194e-02, 2.64372298e-01, 7.24649582e-01],\n",
       "       [1.36205288e-01, 1.99620227e-02, 8.43832689e-01],\n",
       "       [1.96979809e-01, 2.64934204e-02, 7.76526770e-01],\n",
       "       [5.19077882e-01, 3.26893587e-05, 4.80889429e-01],\n",
       "       [3.76931859e-03, 6.94583626e-01, 3.01647055e-01],\n",
       "       [9.30507544e-01, 3.32978038e-05, 6.94591580e-02],\n",
       "       [4.19966842e-02, 7.18325850e-02, 8.86170731e-01],\n",
       "       [3.61685266e-03, 8.14660244e-01, 1.81722903e-01],\n",
       "       [5.34495097e-02, 1.83981424e-01, 7.62569067e-01],\n",
       "       [3.68835794e-01, 6.94830150e-03, 6.24215904e-01],\n",
       "       [1.28953047e-01, 4.37172963e-03, 8.66675223e-01],\n",
       "       [3.15917539e-01, 2.02939181e-03, 6.82053069e-01],\n",
       "       [6.88912201e-02, 5.45727760e-01, 3.85381020e-01],\n",
       "       [2.96206756e-04, 9.50528261e-01, 4.91755322e-02],\n",
       "       [3.77107719e-01, 5.45508734e-04, 6.22346772e-01],\n",
       "       [9.50182178e-01, 2.34349037e-06, 4.98154789e-02],\n",
       "       [7.56076576e-04, 7.91314649e-01, 2.07929274e-01],\n",
       "       [8.42615843e-01, 3.81906296e-05, 1.57345966e-01],\n",
       "       [1.33395068e-04, 9.31654296e-01, 6.82123087e-02],\n",
       "       [3.03743558e-05, 9.39044940e-01, 6.09246861e-02],\n",
       "       [1.24437829e-01, 9.90991967e-02, 7.76462974e-01],\n",
       "       [7.40135447e-01, 6.87964076e-05, 2.59795757e-01],\n",
       "       [2.42124256e-02, 5.18061464e-01, 4.57726110e-01],\n",
       "       [6.37209140e-01, 4.78761639e-03, 3.58003244e-01],\n",
       "       [8.25265082e-01, 5.02413960e-04, 1.74232504e-01],\n",
       "       [2.01633295e-01, 2.17230383e-02, 7.76643667e-01],\n",
       "       [5.58232304e-01, 5.97743981e-04, 4.41169952e-01],\n",
       "       [1.62152469e-04, 9.18597098e-01, 8.12407492e-02],\n",
       "       [3.39295553e-02, 1.72611778e-01, 7.93458667e-01],\n",
       "       [3.73991679e-02, 2.00486294e-01, 7.62114539e-01],\n",
       "       [5.55591025e-01, 1.37046429e-03, 4.43038511e-01],\n",
       "       [5.66560127e-01, 5.85771320e-03, 4.27582160e-01]])"
      ]
     },
     "execution_count": 21,
     "metadata": {},
     "output_type": "execute_result"
    }
   ],
   "source": [
    "classifier.predict_proba(X_test)"
   ]
  },
  {
   "cell_type": "code",
   "execution_count": 22,
   "metadata": {},
   "outputs": [
    {
     "name": "stdout",
     "output_type": "stream",
     "text": [
      "[[17  0  6]\n",
      " [ 0 20  3]\n",
      " [10  3 37]]\n",
      "Classification report: \n",
      "              precision    recall  f1-score   support\n",
      "\n",
      "           0       0.63      0.74      0.68        23\n",
      "           1       0.87      0.87      0.87        23\n",
      "           2       0.80      0.74      0.77        50\n",
      "\n",
      "    accuracy                           0.77        96\n",
      "   macro avg       0.77      0.78      0.77        96\n",
      "weighted avg       0.78      0.77      0.77        96\n",
      "\n",
      "Accuracy of the model:  0.7708333333333334\n"
     ]
    }
   ],
   "source": [
    "from sklearn.metrics import confusion_matrix, accuracy_score, classification_report\n",
    "\n",
    "cfm=confusion_matrix(Y_test,Y_pred)\n",
    "print(cfm)\n",
    "\n",
    "print(\"Classification report: \")\n",
    "\n",
    "print(classification_report(Y_test,Y_pred))\n",
    "\n",
    "acc=accuracy_score(Y_test, Y_pred)\n",
    "print(\"Accuracy of the model: \",acc)"
   ]
  },
  {
   "cell_type": "markdown",
   "metadata": {},
   "source": [
    "# SGD"
   ]
  },
  {
   "cell_type": "code",
   "execution_count": 23,
   "metadata": {},
   "outputs": [],
   "source": [
    "from sklearn.linear_model import SGDClassifier\n",
    "#create a model\n",
    "sgdclassifier=SGDClassifier(loss=\"log\",random_state=10,learning_rate=\"constant\",\n",
    "                         eta0=0.00001,max_iter=1000, shuffle=True,\n",
    "                        early_stopping=True,n_iter_no_change=3)\n",
    "#fitting training data to the model\n",
    "sgdclassifier.fit(X_train,Y_train)\n",
    "\n",
    "Y_pred=classifier.predict(X_test)"
   ]
  },
  {
   "cell_type": "code",
   "execution_count": 24,
   "metadata": {},
   "outputs": [
    {
     "name": "stdout",
     "output_type": "stream",
     "text": [
      "[[17  0  6]\n",
      " [ 0 20  3]\n",
      " [10  3 37]]\n",
      "Classification report: \n",
      "              precision    recall  f1-score   support\n",
      "\n",
      "           0       0.63      0.74      0.68        23\n",
      "           1       0.87      0.87      0.87        23\n",
      "           2       0.80      0.74      0.77        50\n",
      "\n",
      "    accuracy                           0.77        96\n",
      "   macro avg       0.77      0.78      0.77        96\n",
      "weighted avg       0.78      0.77      0.77        96\n",
      "\n",
      "Accuracy of the model:  0.7708333333333334\n"
     ]
    }
   ],
   "source": [
    "from sklearn.metrics import confusion_matrix, accuracy_score, classification_report\n",
    "\n",
    "cfm=confusion_matrix(Y_test,Y_pred)\n",
    "print(cfm)\n",
    "\n",
    "print(\"Classification report: \")\n",
    "\n",
    "print(classification_report(Y_test,Y_pred))\n",
    "\n",
    "acc=accuracy_score(Y_test, Y_pred)\n",
    "print(\"Accuracy of the model: \",acc)"
   ]
  },
  {
   "cell_type": "code",
   "execution_count": 25,
   "metadata": {},
   "outputs": [
    {
     "data": {
      "text/plain": [
       "4"
      ]
     },
     "execution_count": 25,
     "metadata": {},
     "output_type": "execute_result"
    }
   ],
   "source": [
    "sgdclassifier.n_iter_"
   ]
  },
  {
   "cell_type": "code",
   "execution_count": 26,
   "metadata": {},
   "outputs": [
    {
     "data": {
      "text/plain": [
       "1537.0"
      ]
     },
     "execution_count": 26,
     "metadata": {},
     "output_type": "execute_result"
    }
   ],
   "source": [
    "sgdclassifier.t_"
   ]
  },
  {
   "cell_type": "markdown",
   "metadata": {},
   "source": [
    "# Cross validation"
   ]
  },
  {
   "cell_type": "code",
   "execution_count": 27,
   "metadata": {},
   "outputs": [
    {
     "name": "stdout",
     "output_type": "stream",
     "text": [
      "[0.82051282 0.66666667 0.76923077 0.71794872 0.71052632 0.71052632\n",
      " 0.71052632 0.76315789 0.68421053 0.84210526]\n",
      "0.7395411605937923\n"
     ]
    }
   ],
   "source": [
    "#Using cross validation\n",
    "\n",
    "classifier=LogisticRegression()# it will tell K-fold will tell that logistic regression should be done only this line will change in all algorthim\n",
    "\n",
    "#performing kfold_cross_validation\n",
    "from sklearn.model_selection import KFold\n",
    "kfold_cv=KFold(n_splits=10,random_state=10,shuffle=True)#n_splits means k =10\n",
    "#print(kfold_cv)\n",
    "\n",
    "from sklearn.model_selection import cross_val_score\n",
    "#running the model using scoring metric as accuracy\n",
    "kfold_cv_result=cross_val_score(estimator=classifier,X=X_train,\n",
    "                                                 y=Y_train, cv=kfold_cv)\n",
    "print(kfold_cv_result)\n",
    "#finding the mean\n",
    "print(kfold_cv_result.mean())"
   ]
  },
  {
   "cell_type": "code",
   "execution_count": 28,
   "metadata": {},
   "outputs": [],
   "source": [
    "#model tuning for more than 3% difference then we can go for cross validated model and we can use this as model tuning \n",
    "\n",
    "for train_value, test_value in kfold_cv.split(X_train):\n",
    "    classifier.fit(X_train[train_value], Y_train[train_value]).predict(X_train[test_value])\n",
    "\n",
    "    \n",
    "Y_pred=classifier.predict(X_test)\n",
    "#print(list(zip(Y_test,Y_pred)))"
   ]
  },
  {
   "cell_type": "code",
   "execution_count": 29,
   "metadata": {},
   "outputs": [
    {
     "name": "stdout",
     "output_type": "stream",
     "text": [
      "[[17  0  6]\n",
      " [ 0 20  3]\n",
      " [13  3 34]]\n",
      "Classification report: \n",
      "              precision    recall  f1-score   support\n",
      "\n",
      "           0       0.57      0.74      0.64        23\n",
      "           1       0.87      0.87      0.87        23\n",
      "           2       0.79      0.68      0.73        50\n",
      "\n",
      "    accuracy                           0.74        96\n",
      "   macro avg       0.74      0.76      0.75        96\n",
      "weighted avg       0.76      0.74      0.74        96\n",
      "\n",
      "Accuracy of the model:  0.7395833333333334\n"
     ]
    }
   ],
   "source": [
    "from sklearn.metrics import confusion_matrix, accuracy_score, classification_report\n",
    "\n",
    "cfm=confusion_matrix(Y_test,Y_pred)\n",
    "print(cfm)\n",
    "\n",
    "print(\"Classification report: \")\n",
    "\n",
    "print(classification_report(Y_test,Y_pred))\n",
    "\n",
    "acc=accuracy_score(Y_test, Y_pred)\n",
    "print(\"Accuracy of the model: \",acc)"
   ]
  },
  {
   "cell_type": "code",
   "execution_count": 30,
   "metadata": {},
   "outputs": [],
   "source": [
    "## we can see here that base model was better than k-fold after tuning "
   ]
  },
  {
   "cell_type": "code",
   "execution_count": 31,
   "metadata": {},
   "outputs": [
    {
     "name": "stdout",
     "output_type": "stream",
     "text": [
      "[0.82051282 0.66666667 0.84615385 0.76923077 0.55263158 0.78947368\n",
      " 0.81578947 0.60526316 0.76315789 0.60526316]\n",
      "0.7234143049932524\n"
     ]
    }
   ],
   "source": [
    "#using straified Kfold\n",
    "classifier=LogisticRegression()# it will tell K-fold will tell that logistic regression should be done only this line will change in all algorthim\n",
    "\n",
    "#performing Stratifiedkfold_cross_validation\n",
    "from sklearn.model_selection import StratifiedKFold\n",
    "kfold_cv=StratifiedKFold(n_splits=10,random_state=10,shuffle=True)#n_splits means k =10\n",
    "#print(Stratifiedkfold_cv)\n",
    "\n",
    "from sklearn.model_selection import cross_val_score\n",
    "#running the model using scoring metric as accuracy\n",
    "kfold_cv_result=cross_val_score(estimator=classifier,X=X_train,\n",
    "                                                 y=Y_train, cv=kfold_cv)\n",
    "print(kfold_cv_result)\n",
    "#finding the mean\n",
    "print(kfold_cv_result.mean())"
   ]
  },
  {
   "cell_type": "code",
   "execution_count": 32,
   "metadata": {},
   "outputs": [],
   "source": [
    "for train_value, test_value in kfold_cv.split(X_train,Y_train):\n",
    "    classifier.fit(X_train[train_value], Y_train[train_value]).predict(X_train[test_value])\n",
    "\n",
    "    \n",
    "Y_pred=classifier.predict(X_test)"
   ]
  },
  {
   "cell_type": "code",
   "execution_count": 33,
   "metadata": {},
   "outputs": [
    {
     "name": "stdout",
     "output_type": "stream",
     "text": [
      "[[17  0  6]\n",
      " [ 0 20  3]\n",
      " [11  2 37]]\n",
      "Classification report: \n",
      "              precision    recall  f1-score   support\n",
      "\n",
      "           0       0.61      0.74      0.67        23\n",
      "           1       0.91      0.87      0.89        23\n",
      "           2       0.80      0.74      0.77        50\n",
      "\n",
      "    accuracy                           0.77        96\n",
      "   macro avg       0.77      0.78      0.78        96\n",
      "weighted avg       0.78      0.77      0.77        96\n",
      "\n",
      "Accuracy of the model:  0.7708333333333334\n"
     ]
    }
   ],
   "source": [
    "from sklearn.metrics import confusion_matrix, accuracy_score, classification_report\n",
    "\n",
    "cfm=confusion_matrix(Y_test,Y_pred)\n",
    "print(cfm)\n",
    "\n",
    "print(\"Classification report: \")\n",
    "\n",
    "print(classification_report(Y_test,Y_pred))\n",
    "\n",
    "acc=accuracy_score(Y_test, Y_pred)\n",
    "print(\"Accuracy of the model: \",acc)"
   ]
  },
  {
   "cell_type": "code",
   "execution_count": 34,
   "metadata": {},
   "outputs": [],
   "source": [
    "# we can see here that there was no much differnce between the base model and straified k-fold after tuning "
   ]
  },
  {
   "cell_type": "markdown",
   "metadata": {},
   "source": [
    "# SelectKBest function"
   ]
  },
  {
   "cell_type": "code",
   "execution_count": 35,
   "metadata": {},
   "outputs": [],
   "source": [
    "#Recreating the x and y values \n",
    "X=edu1.values[:,:-1] \n",
    "Y=edu1.values[:,-1]"
   ]
  },
  {
   "cell_type": "code",
   "execution_count": 36,
   "metadata": {},
   "outputs": [
    {
     "name": "stdout",
     "output_type": "stream",
     "text": [
      "[1.21501902e+01 6.95502702e+00 9.75721839e+00 1.36112198e+00\n",
      " 7.18665588e+00 5.15850555e-01 1.39038817e+01 3.99229972e+00\n",
      " 4.79717673e+01 4.12455120e+03 4.70083310e+03 2.61890570e+03\n",
      " 8.09349399e+02 4.17220341e+01 2.68172275e+01 8.96127511e+01]\n",
      "[('gender', False), ('NationalITy', False), ('PlaceofBirth', False), ('StageID', False), ('GradeID', False), ('SectionID', False), ('Topic', False), ('Semester', False), ('Relation', True), ('raisedhands', True), ('VisITedResources', True), ('AnnouncementsView', True), ('Discussion', True), ('ParentAnsweringSurvey', True), ('ParentschoolSatisfaction', True), ('StudentAbsenceDays', True)]\n"
     ]
    }
   ],
   "source": [
    "from sklearn.feature_selection import SelectKBest\n",
    "from sklearn.feature_selection import chi2\n",
    "\n",
    "\n",
    "test = SelectKBest(score_func=chi2, k=8)# here it tells us out of 15b variable in the list it will compare every x with  y and give 8 best values \n",
    "fit1 = test.fit(X, Y)\n",
    "\n",
    "colname=edu1.columns\n",
    "\n",
    "print(fit1.scores_)\n",
    "print(list(zip(colname,fit1.get_support())))\n",
    "X_new = fit1.transform(X)"
   ]
  },
  {
   "cell_type": "code",
   "execution_count": 37,
   "metadata": {},
   "outputs": [],
   "source": [
    "from sklearn.preprocessing import StandardScaler\n",
    "scaler=StandardScaler()\n",
    "scaler.fit(X_new)\n",
    "X=scaler.transform(X_new)"
   ]
  },
  {
   "cell_type": "code",
   "execution_count": 38,
   "metadata": {},
   "outputs": [],
   "source": [
    "from sklearn.model_selection import train_test_split\n",
    "\n",
    "#split the data into test and train\n",
    "X_train,X_test,Y_train,Y_test=train_test_split(X,Y,test_size=0.2,random_state=10)"
   ]
  },
  {
   "cell_type": "code",
   "execution_count": 39,
   "metadata": {},
   "outputs": [
    {
     "name": "stdout",
     "output_type": "stream",
     "text": [
      "[0 2 2 1 2 0 0 0 2 1 2 1 2 2 2 2 1 0 2 2 1 2 1 2 2 1 0 0 2 0 2 0 1 2 2 1 2\n",
      " 2 1 0 2 1 2 1 2 0 0 2 2 2 2 1 0 2 2 2 0 1 2 0 0 1 0 2 2 2 2 2 1 0 2 1 2 2\n",
      " 2 2 2 1 2 0 1 0 1 1 2 0 1 0 0 2 0 1 2 2 0 2]\n",
      "[-0.14482944 -1.41517937  1.5600088 ]\n",
      "[[ 0.4677957   0.76186719  0.52833565  0.23131647  0.33975349  0.33484478\n",
      "   0.21617972  1.19728301]\n",
      " [-0.24150777 -0.84991361 -0.65801443 -0.54007497 -0.36922082 -0.40229439\n",
      "  -0.18997168 -1.29585327]\n",
      " [-0.22628793  0.08804642  0.12967878  0.3087585   0.02946733  0.06744961\n",
      "  -0.02620804  0.09857026]]\n"
     ]
    }
   ],
   "source": [
    "from sklearn.linear_model import LogisticRegression\n",
    "#create a model object\n",
    "classifier=LogisticRegression()\n",
    "#train the model object\n",
    "classifier.fit(X_train,Y_train)# fit function is used to train the model\n",
    "\n",
    "Y_pred=classifier.predict(X_test)\n",
    "print(Y_pred)\n",
    "\n",
    "\n",
    "#print intercept and coeeficients\n",
    "print(classifier.intercept_) #to get dependent values \n",
    "print(classifier.coef_)"
   ]
  },
  {
   "cell_type": "code",
   "execution_count": 40,
   "metadata": {},
   "outputs": [
    {
     "name": "stdout",
     "output_type": "stream",
     "text": [
      "[[17  0  6]\n",
      " [ 0 20  3]\n",
      " [ 8  3 39]]\n",
      "Classification report: \n",
      "              precision    recall  f1-score   support\n",
      "\n",
      "           0       0.68      0.74      0.71        23\n",
      "           1       0.87      0.87      0.87        23\n",
      "           2       0.81      0.78      0.80        50\n",
      "\n",
      "    accuracy                           0.79        96\n",
      "   macro avg       0.79      0.80      0.79        96\n",
      "weighted avg       0.79      0.79      0.79        96\n",
      "\n",
      "Accuracy of the model:  0.7916666666666666\n"
     ]
    }
   ],
   "source": [
    "from sklearn.metrics import confusion_matrix, accuracy_score, classification_report\n",
    "\n",
    "cfm=confusion_matrix(Y_test,Y_pred)\n",
    "print(cfm)\n",
    "\n",
    "print(\"Classification report: \")\n",
    "\n",
    "print(classification_report(Y_test,Y_pred))\n",
    "\n",
    "acc=accuracy_score(Y_test, Y_pred)\n",
    "print(\"Accuracy of the model: \",acc)"
   ]
  },
  {
   "cell_type": "code",
   "execution_count": 41,
   "metadata": {},
   "outputs": [],
   "source": [
    "#insight : Select K best works well when compared to k fold straified k fold and base  model "
   ]
  },
  {
   "cell_type": "markdown",
   "metadata": {},
   "source": [
    "# Variance Threshold"
   ]
  },
  {
   "cell_type": "code",
   "execution_count": 42,
   "metadata": {},
   "outputs": [],
   "source": [
    "#Recreating the x and y values \n",
    "X=edu1.values[:,:-1] \n",
    "Y=edu1.values[:,-1]"
   ]
  },
  {
   "cell_type": "code",
   "execution_count": 43,
   "metadata": {},
   "outputs": [
    {
     "name": "stdout",
     "output_type": "stream",
     "text": [
      "[2.31662326e-01 6.08456597e+00 6.89374566e+00 3.63732639e-01\n",
      " 6.05996094e+00 3.74266493e-01 1.14572526e+01 2.49891493e-01\n",
      " 2.41974826e-01 9.45386875e+02 1.09200708e+03 7.06682982e+02\n",
      " 7.62253056e+02 2.46093750e-01 2.38263889e-01 2.39578993e-01]\n",
      "16\n",
      "[('gender', True), ('NationalITy', True), ('PlaceofBirth', True), ('StageID', True), ('GradeID', True), ('SectionID', True), ('Topic', True), ('Semester', True), ('Relation', True), ('raisedhands', True), ('VisITedResources', True), ('AnnouncementsView', True), ('Discussion', True), ('ParentAnsweringSurvey', True), ('ParentschoolSatisfaction', True), ('StudentAbsenceDays', True)]\n"
     ]
    }
   ],
   "source": [
    "from sklearn.feature_selection import VarianceThreshold\n",
    "vt = VarianceThreshold(0.2)\n",
    "fit1 = vt.fit(X, Y)\n",
    "print(fit1.variances_)\n",
    "\n",
    "features = fit1.transform(X)\n",
    "print(features.shape[1])\n",
    "print(list(zip(edu1.columns,fit1.get_support())))"
   ]
  },
  {
   "cell_type": "code",
   "execution_count": 44,
   "metadata": {},
   "outputs": [],
   "source": [
    "from sklearn.preprocessing import StandardScaler\n",
    "scaler=StandardScaler()\n",
    "scaler.fit(X_new)\n",
    "X=scaler.transform(X_new)"
   ]
  },
  {
   "cell_type": "code",
   "execution_count": 45,
   "metadata": {},
   "outputs": [],
   "source": [
    "from sklearn.model_selection import train_test_split\n",
    "\n",
    "#split the data into test and train\n",
    "X_train,X_test,Y_train,Y_test=train_test_split(X,Y,test_size=0.2,random_state=10)"
   ]
  },
  {
   "cell_type": "code",
   "execution_count": 46,
   "metadata": {},
   "outputs": [
    {
     "name": "stdout",
     "output_type": "stream",
     "text": [
      "[0 2 2 1 2 0 0 0 2 1 2 1 2 2 2 2 1 0 2 2 1 2 1 2 2 1 0 0 2 0 2 0 1 2 2 1 2\n",
      " 2 1 0 2 1 2 1 2 0 0 2 2 2 2 1 0 2 2 2 0 1 2 0 0 1 0 2 2 2 2 2 1 0 2 1 2 2\n",
      " 2 2 2 1 2 0 1 0 1 1 2 0 1 0 0 2 0 1 2 2 0 2]\n",
      "[-0.14482944 -1.41517937  1.5600088 ]\n",
      "[[ 0.4677957   0.76186719  0.52833565  0.23131647  0.33975349  0.33484478\n",
      "   0.21617972  1.19728301]\n",
      " [-0.24150777 -0.84991361 -0.65801443 -0.54007497 -0.36922082 -0.40229439\n",
      "  -0.18997168 -1.29585327]\n",
      " [-0.22628793  0.08804642  0.12967878  0.3087585   0.02946733  0.06744961\n",
      "  -0.02620804  0.09857026]]\n"
     ]
    }
   ],
   "source": [
    "from sklearn.linear_model import LogisticRegression\n",
    "#create a model object\n",
    "classifier=LogisticRegression()\n",
    "#train the model object\n",
    "classifier.fit(X_train,Y_train)# fit function is used to train the model\n",
    "\n",
    "Y_pred=classifier.predict(X_test)\n",
    "print(Y_pred)\n",
    "\n",
    "\n",
    "#print intercept and coeeficients\n",
    "print(classifier.intercept_) #to get dependent values \n",
    "print(classifier.coef_)#"
   ]
  },
  {
   "cell_type": "code",
   "execution_count": 47,
   "metadata": {},
   "outputs": [
    {
     "name": "stdout",
     "output_type": "stream",
     "text": [
      "[[17  0  6]\n",
      " [ 0 20  3]\n",
      " [ 8  3 39]]\n",
      "Classification report: \n",
      "              precision    recall  f1-score   support\n",
      "\n",
      "           0       0.68      0.74      0.71        23\n",
      "           1       0.87      0.87      0.87        23\n",
      "           2       0.81      0.78      0.80        50\n",
      "\n",
      "    accuracy                           0.79        96\n",
      "   macro avg       0.79      0.80      0.79        96\n",
      "weighted avg       0.79      0.79      0.79        96\n",
      "\n",
      "Accuracy of the model:  0.7916666666666666\n"
     ]
    }
   ],
   "source": [
    "from sklearn.metrics import confusion_matrix, accuracy_score, classification_report\n",
    "\n",
    "cfm=confusion_matrix(Y_test,Y_pred)\n",
    "print(cfm)\n",
    "\n",
    "print(\"Classification report: \")\n",
    "\n",
    "print(classification_report(Y_test,Y_pred))\n",
    "\n",
    "acc=accuracy_score(Y_test, Y_pred)\n",
    "print(\"Accuracy of the model: \",acc)"
   ]
  },
  {
   "cell_type": "code",
   "execution_count": 48,
   "metadata": {},
   "outputs": [],
   "source": [
    " #variance threshold and select k best works well and gives good accuracy and recall "
   ]
  },
  {
   "cell_type": "markdown",
   "metadata": {},
   "source": [
    "# RFE Method Model"
   ]
  },
  {
   "cell_type": "code",
   "execution_count": 49,
   "metadata": {},
   "outputs": [],
   "source": [
    "from sklearn.linear_model import LogisticRegression\n",
    "classifier=LogisticRegression()"
   ]
  },
  {
   "cell_type": "code",
   "execution_count": 50,
   "metadata": {},
   "outputs": [],
   "source": [
    "#Recreating the x and y values \n",
    "X=edu1.values[:,:-1] \n",
    "Y=edu1.values[:,-1]"
   ]
  },
  {
   "cell_type": "code",
   "execution_count": 51,
   "metadata": {},
   "outputs": [
    {
     "name": "stdout",
     "output_type": "stream",
     "text": [
      "[[ 0.7574764  -0.1402013  -0.15155299 ...  0.8819171   0.80239368\n",
      "   0.81295735]\n",
      " [ 0.7574764  -0.1402013  -0.15155299 ...  0.8819171   0.80239368\n",
      "   0.81295735]\n",
      " [ 0.7574764  -0.1402013  -0.15155299 ... -1.13389342 -1.24627103\n",
      "  -1.23007683]\n",
      " ...\n",
      " [-1.32017315 -0.54560266 -0.53241913 ... -1.13389342 -1.24627103\n",
      "   0.81295735]\n",
      " [-1.32017315 -0.54560266 -0.53241913 ... -1.13389342 -1.24627103\n",
      "  -1.23007683]\n",
      " [-1.32017315 -0.54560266 -0.53241913 ... -1.13389342 -1.24627103\n",
      "  -1.23007683]]\n"
     ]
    }
   ],
   "source": [
    "from sklearn.preprocessing import StandardScaler\n",
    "scaler=StandardScaler()\n",
    "scaler.fit(X)\n",
    "X=scaler.transform(X)\n",
    "#x=scaler.fit_transform(X)\n",
    "print(X)"
   ]
  },
  {
   "cell_type": "code",
   "execution_count": 52,
   "metadata": {},
   "outputs": [],
   "source": [
    "from sklearn.model_selection import train_test_split\n",
    "\n",
    "#split the data into test and train\n",
    "X_train,X_test,Y_train,Y_test=train_test_split(X,Y,test_size=0.2,random_state=10)"
   ]
  },
  {
   "cell_type": "code",
   "execution_count": 53,
   "metadata": {},
   "outputs": [],
   "source": [
    "colname=edu1.columns"
   ]
  },
  {
   "cell_type": "code",
   "execution_count": 54,
   "metadata": {},
   "outputs": [
    {
     "data": {
      "text/plain": [
       "(480, 17)"
      ]
     },
     "execution_count": 54,
     "metadata": {},
     "output_type": "execute_result"
    }
   ],
   "source": [
    "edu1.shape"
   ]
  },
  {
   "cell_type": "code",
   "execution_count": 55,
   "metadata": {},
   "outputs": [
    {
     "name": "stdout",
     "output_type": "stream",
     "text": [
      "Num Features:  10\n",
      "Selected Features: \n",
      "[('gender', True), ('NationalITy', False), ('PlaceofBirth', False), ('StageID', True), ('GradeID', True), ('SectionID', False), ('Topic', False), ('Semester', False), ('Relation', True), ('raisedhands', True), ('VisITedResources', True), ('AnnouncementsView', True), ('Discussion', True), ('ParentAnsweringSurvey', True), ('ParentschoolSatisfaction', False), ('StudentAbsenceDays', True)]\n",
      "Feature Ranking:  [1 2 3 1 1 6 5 7 1 1 1 1 1 1 4 1]\n"
     ]
    }
   ],
   "source": [
    "from sklearn.feature_selection import RFE\n",
    "rfe = RFE(classifier, n_features_to_select=10)\n",
    "model_rfe = rfe.fit(X_train, Y_train)\n",
    "print(\"Num Features: \",model_rfe.n_features_)\n",
    "print(\"Selected Features: \") \n",
    "print(list(zip(colname, model_rfe.support_)))\n",
    "print(\"Feature Ranking: \", model_rfe.ranking_) "
   ]
  },
  {
   "cell_type": "code",
   "execution_count": 56,
   "metadata": {},
   "outputs": [],
   "source": [
    "Y_pred=model_rfe.predict(X_test)"
   ]
  },
  {
   "cell_type": "code",
   "execution_count": 57,
   "metadata": {},
   "outputs": [
    {
     "name": "stdout",
     "output_type": "stream",
     "text": [
      "[2 2 2 1 0 0 0 0 2 1 0 2 2 2 2 0 1 0 2 0 1 2 1 2 2 1 0 0 2 0 0 0 1 2 0 1 2\n",
      " 2 1 0 2 1 2 1 2 0 0 2 2 0 2 1 2 2 2 0 0 1 2 0 0 1 0 2 2 2 2 0 1 0 2 1 2 2\n",
      " 2 2 2 1 0 0 1 0 1 1 2 0 2 0 0 2 0 1 2 2 0 0]\n"
     ]
    }
   ],
   "source": [
    "print(Y_pred)"
   ]
  },
  {
   "cell_type": "code",
   "execution_count": 58,
   "metadata": {},
   "outputs": [
    {
     "name": "stdout",
     "output_type": "stream",
     "text": [
      "[[20  0  3]\n",
      " [ 0 19  4]\n",
      " [14  2 34]]\n",
      "Classification report: \n",
      "              precision    recall  f1-score   support\n",
      "\n",
      "           0       0.59      0.87      0.70        23\n",
      "           1       0.90      0.83      0.86        23\n",
      "           2       0.83      0.68      0.75        50\n",
      "\n",
      "    accuracy                           0.76        96\n",
      "   macro avg       0.77      0.79      0.77        96\n",
      "weighted avg       0.79      0.76      0.76        96\n",
      "\n",
      "Accuracy of the model:  0.7604166666666666\n"
     ]
    }
   ],
   "source": [
    "from sklearn.metrics import confusion_matrix, accuracy_score, classification_report\n",
    "\n",
    "cfm=confusion_matrix(Y_test,Y_pred)\n",
    "print(cfm)\n",
    "\n",
    "print(\"Classification report: \")\n",
    "\n",
    "print(classification_report(Y_test,Y_pred))\n",
    "\n",
    "acc=accuracy_score(Y_test, Y_pred)\n",
    "print(\"Accuracy of the model: \",acc)"
   ]
  },
  {
   "cell_type": "markdown",
   "metadata": {},
   "source": [
    "## SFS Method model"
   ]
  },
  {
   "cell_type": "code",
   "execution_count": 59,
   "metadata": {},
   "outputs": [
    {
     "data": {
      "text/html": [
       "<div>\n",
       "<style scoped>\n",
       "    .dataframe tbody tr th:only-of-type {\n",
       "        vertical-align: middle;\n",
       "    }\n",
       "\n",
       "    .dataframe tbody tr th {\n",
       "        vertical-align: top;\n",
       "    }\n",
       "\n",
       "    .dataframe thead th {\n",
       "        text-align: right;\n",
       "    }\n",
       "</style>\n",
       "<table border=\"1\" class=\"dataframe\">\n",
       "  <thead>\n",
       "    <tr style=\"text-align: right;\">\n",
       "      <th></th>\n",
       "      <th>feature_idx</th>\n",
       "      <th>cv_scores</th>\n",
       "      <th>avg_score</th>\n",
       "      <th>feature_names</th>\n",
       "    </tr>\n",
       "  </thead>\n",
       "  <tbody>\n",
       "    <tr>\n",
       "      <th>1</th>\n",
       "      <td>(9,)</td>\n",
       "      <td>[0.5714285714285714, 0.6233766233766234, 0.519...</td>\n",
       "      <td>0.596548</td>\n",
       "      <td>(9,)</td>\n",
       "    </tr>\n",
       "    <tr>\n",
       "      <th>2</th>\n",
       "      <td>(9, 15)</td>\n",
       "      <td>[0.7532467532467533, 0.7012987012987013, 0.623...</td>\n",
       "      <td>0.687594</td>\n",
       "      <td>(9, 15)</td>\n",
       "    </tr>\n",
       "    <tr>\n",
       "      <th>3</th>\n",
       "      <td>(9, 13, 15)</td>\n",
       "      <td>[0.7402597402597403, 0.7402597402597403, 0.649...</td>\n",
       "      <td>0.713568</td>\n",
       "      <td>(9, 13, 15)</td>\n",
       "    </tr>\n",
       "    <tr>\n",
       "      <th>4</th>\n",
       "      <td>(8, 9, 13, 15)</td>\n",
       "      <td>[0.7532467532467533, 0.7792207792207793, 0.649...</td>\n",
       "      <td>0.731921</td>\n",
       "      <td>(8, 9, 13, 15)</td>\n",
       "    </tr>\n",
       "    <tr>\n",
       "      <th>5</th>\n",
       "      <td>(8, 9, 13, 14, 15)</td>\n",
       "      <td>[0.7402597402597403, 0.7922077922077922, 0.675...</td>\n",
       "      <td>0.747505</td>\n",
       "      <td>(8, 9, 13, 14, 15)</td>\n",
       "    </tr>\n",
       "    <tr>\n",
       "      <th>6</th>\n",
       "      <td>(8, 9, 10, 13, 14, 15)</td>\n",
       "      <td>[0.7402597402597403, 0.7792207792207793, 0.662...</td>\n",
       "      <td>0.744805</td>\n",
       "      <td>(8, 9, 10, 13, 14, 15)</td>\n",
       "    </tr>\n",
       "    <tr>\n",
       "      <th>7</th>\n",
       "      <td>(4, 8, 9, 10, 13, 14, 15)</td>\n",
       "      <td>[0.7532467532467533, 0.7532467532467533, 0.688...</td>\n",
       "      <td>0.742208</td>\n",
       "      <td>(4, 8, 9, 10, 13, 14, 15)</td>\n",
       "    </tr>\n",
       "    <tr>\n",
       "      <th>8</th>\n",
       "      <td>(3, 4, 8, 9, 10, 13, 14, 15)</td>\n",
       "      <td>[0.7532467532467533, 0.7402597402597403, 0.701...</td>\n",
       "      <td>0.747437</td>\n",
       "      <td>(3, 4, 8, 9, 10, 13, 14, 15)</td>\n",
       "    </tr>\n",
       "    <tr>\n",
       "      <th>9</th>\n",
       "      <td>(3, 4, 8, 9, 10, 12, 13, 14, 15)</td>\n",
       "      <td>[0.7402597402597403, 0.7272727272727273, 0.701...</td>\n",
       "      <td>0.742276</td>\n",
       "      <td>(3, 4, 8, 9, 10, 12, 13, 14, 15)</td>\n",
       "    </tr>\n",
       "    <tr>\n",
       "      <th>10</th>\n",
       "      <td>(3, 4, 7, 8, 9, 10, 12, 13, 14, 15)</td>\n",
       "      <td>[0.7402597402597403, 0.7402597402597403, 0.701...</td>\n",
       "      <td>0.750068</td>\n",
       "      <td>(3, 4, 7, 8, 9, 10, 12, 13, 14, 15)</td>\n",
       "    </tr>\n",
       "    <tr>\n",
       "      <th>11</th>\n",
       "      <td>(3, 4, 7, 8, 9, 10, 11, 12, 13, 14, 15)</td>\n",
       "      <td>[0.7662337662337663, 0.7402597402597403, 0.727...</td>\n",
       "      <td>0.755297</td>\n",
       "      <td>(3, 4, 7, 8, 9, 10, 11, 12, 13, 14, 15)</td>\n",
       "    </tr>\n",
       "    <tr>\n",
       "      <th>12</th>\n",
       "      <td>(1, 3, 4, 7, 8, 9, 10, 11, 12, 13, 14, 15)</td>\n",
       "      <td>[0.7662337662337663, 0.7662337662337663, 0.727...</td>\n",
       "      <td>0.752529</td>\n",
       "      <td>(1, 3, 4, 7, 8, 9, 10, 11, 12, 13, 14, 15)</td>\n",
       "    </tr>\n",
       "    <tr>\n",
       "      <th>13</th>\n",
       "      <td>(1, 3, 4, 6, 7, 8, 9, 10, 11, 12, 13, 14, 15)</td>\n",
       "      <td>[0.7662337662337663, 0.7402597402597403, 0.727...</td>\n",
       "      <td>0.747437</td>\n",
       "      <td>(1, 3, 4, 6, 7, 8, 9, 10, 11, 12, 13, 14, 15)</td>\n",
       "    </tr>\n",
       "    <tr>\n",
       "      <th>14</th>\n",
       "      <td>(1, 2, 3, 4, 6, 7, 8, 9, 10, 11, 12, 13, 14, 15)</td>\n",
       "      <td>[0.7662337662337663, 0.7142857142857143, 0.740...</td>\n",
       "      <td>0.744805</td>\n",
       "      <td>(1, 2, 3, 4, 6, 7, 8, 9, 10, 11, 12, 13, 14, 15)</td>\n",
       "    </tr>\n",
       "    <tr>\n",
       "      <th>15</th>\n",
       "      <td>(0, 1, 2, 3, 4, 6, 7, 8, 9, 10, 11, 12, 13, 14...</td>\n",
       "      <td>[0.7662337662337663, 0.7532467532467533, 0.727...</td>\n",
       "      <td>0.734347</td>\n",
       "      <td>(0, 1, 2, 3, 4, 6, 7, 8, 9, 10, 11, 12, 13, 14...</td>\n",
       "    </tr>\n",
       "    <tr>\n",
       "      <th>16</th>\n",
       "      <td>(0, 1, 2, 3, 4, 5, 6, 7, 8, 9, 10, 11, 12, 13,...</td>\n",
       "      <td>[0.7662337662337663, 0.7792207792207793, 0.727...</td>\n",
       "      <td>0.742174</td>\n",
       "      <td>(0, 1, 2, 3, 4, 5, 6, 7, 8, 9, 10, 11, 12, 13,...</td>\n",
       "    </tr>\n",
       "  </tbody>\n",
       "</table>\n",
       "</div>"
      ],
      "text/plain": [
       "                                          feature_idx  \\\n",
       "1                                                (9,)   \n",
       "2                                             (9, 15)   \n",
       "3                                         (9, 13, 15)   \n",
       "4                                      (8, 9, 13, 15)   \n",
       "5                                  (8, 9, 13, 14, 15)   \n",
       "6                              (8, 9, 10, 13, 14, 15)   \n",
       "7                           (4, 8, 9, 10, 13, 14, 15)   \n",
       "8                        (3, 4, 8, 9, 10, 13, 14, 15)   \n",
       "9                    (3, 4, 8, 9, 10, 12, 13, 14, 15)   \n",
       "10                (3, 4, 7, 8, 9, 10, 12, 13, 14, 15)   \n",
       "11            (3, 4, 7, 8, 9, 10, 11, 12, 13, 14, 15)   \n",
       "12         (1, 3, 4, 7, 8, 9, 10, 11, 12, 13, 14, 15)   \n",
       "13      (1, 3, 4, 6, 7, 8, 9, 10, 11, 12, 13, 14, 15)   \n",
       "14   (1, 2, 3, 4, 6, 7, 8, 9, 10, 11, 12, 13, 14, 15)   \n",
       "15  (0, 1, 2, 3, 4, 6, 7, 8, 9, 10, 11, 12, 13, 14...   \n",
       "16  (0, 1, 2, 3, 4, 5, 6, 7, 8, 9, 10, 11, 12, 13,...   \n",
       "\n",
       "                                            cv_scores avg_score  \\\n",
       "1   [0.5714285714285714, 0.6233766233766234, 0.519...  0.596548   \n",
       "2   [0.7532467532467533, 0.7012987012987013, 0.623...  0.687594   \n",
       "3   [0.7402597402597403, 0.7402597402597403, 0.649...  0.713568   \n",
       "4   [0.7532467532467533, 0.7792207792207793, 0.649...  0.731921   \n",
       "5   [0.7402597402597403, 0.7922077922077922, 0.675...  0.747505   \n",
       "6   [0.7402597402597403, 0.7792207792207793, 0.662...  0.744805   \n",
       "7   [0.7532467532467533, 0.7532467532467533, 0.688...  0.742208   \n",
       "8   [0.7532467532467533, 0.7402597402597403, 0.701...  0.747437   \n",
       "9   [0.7402597402597403, 0.7272727272727273, 0.701...  0.742276   \n",
       "10  [0.7402597402597403, 0.7402597402597403, 0.701...  0.750068   \n",
       "11  [0.7662337662337663, 0.7402597402597403, 0.727...  0.755297   \n",
       "12  [0.7662337662337663, 0.7662337662337663, 0.727...  0.752529   \n",
       "13  [0.7662337662337663, 0.7402597402597403, 0.727...  0.747437   \n",
       "14  [0.7662337662337663, 0.7142857142857143, 0.740...  0.744805   \n",
       "15  [0.7662337662337663, 0.7532467532467533, 0.727...  0.734347   \n",
       "16  [0.7662337662337663, 0.7792207792207793, 0.727...  0.742174   \n",
       "\n",
       "                                        feature_names  \n",
       "1                                                (9,)  \n",
       "2                                             (9, 15)  \n",
       "3                                         (9, 13, 15)  \n",
       "4                                      (8, 9, 13, 15)  \n",
       "5                                  (8, 9, 13, 14, 15)  \n",
       "6                              (8, 9, 10, 13, 14, 15)  \n",
       "7                           (4, 8, 9, 10, 13, 14, 15)  \n",
       "8                        (3, 4, 8, 9, 10, 13, 14, 15)  \n",
       "9                    (3, 4, 8, 9, 10, 12, 13, 14, 15)  \n",
       "10                (3, 4, 7, 8, 9, 10, 12, 13, 14, 15)  \n",
       "11            (3, 4, 7, 8, 9, 10, 11, 12, 13, 14, 15)  \n",
       "12         (1, 3, 4, 7, 8, 9, 10, 11, 12, 13, 14, 15)  \n",
       "13      (1, 3, 4, 6, 7, 8, 9, 10, 11, 12, 13, 14, 15)  \n",
       "14   (1, 2, 3, 4, 6, 7, 8, 9, 10, 11, 12, 13, 14, 15)  \n",
       "15  (0, 1, 2, 3, 4, 6, 7, 8, 9, 10, 11, 12, 13, 14...  \n",
       "16  (0, 1, 2, 3, 4, 5, 6, 7, 8, 9, 10, 11, 12, 13,...  "
      ]
     },
     "execution_count": 59,
     "metadata": {},
     "output_type": "execute_result"
    }
   ],
   "source": [
    "from mlxtend.feature_selection import SequentialFeatureSelector as SFS\n",
    "#Define Sequential Forward Selection (sfs)\n",
    "sffs = SFS(LogisticRegression(),\n",
    "           k_features='best',\n",
    "           forward=True,\n",
    "           scoring = 'accuracy',\n",
    "           cv = 5)\n",
    "#Use SFS to select the top features \n",
    "feature_names=edu1.columns\n",
    "sffs.fit(X_train, Y_train)\n",
    "\n",
    "#Create a dataframe for the SFS results \n",
    "df_SFFS_results = pd.DataFrame(sffs.subsets_).transpose()\n",
    "df_SFFS_results"
   ]
  },
  {
   "cell_type": "code",
   "execution_count": 60,
   "metadata": {},
   "outputs": [],
   "source": [
    "#Recreating the x and y values \n",
    "X=edu1.values[:,[3, 4, 7, 8, 9, 10, 11, 12, 13, 14, 15]]\n",
    "Y=edu1.values[:,-1]"
   ]
  },
  {
   "cell_type": "code",
   "execution_count": 61,
   "metadata": {},
   "outputs": [
    {
     "name": "stdout",
     "output_type": "stream",
     "text": [
      "[[ 1.08466911 -0.77436363 -0.97937923 ...  0.8819171   0.80239368\n",
      "   0.81295735]\n",
      " [ 1.08466911 -0.77436363 -0.97937923 ...  0.8819171   0.80239368\n",
      "   0.81295735]\n",
      " [ 1.08466911 -0.77436363 -0.97937923 ... -1.13389342 -1.24627103\n",
      "  -1.23007683]\n",
      " ...\n",
      " [-0.5734238   0.85053054  1.02105494 ... -1.13389342 -1.24627103\n",
      "   0.81295735]\n",
      " [-0.5734238   0.85053054 -0.97937923 ... -1.13389342 -1.24627103\n",
      "  -1.23007683]\n",
      " [-0.5734238   0.85053054  1.02105494 ... -1.13389342 -1.24627103\n",
      "  -1.23007683]]\n"
     ]
    }
   ],
   "source": [
    "from sklearn.preprocessing import StandardScaler\n",
    "scaler=StandardScaler()\n",
    "scaler.fit(X)\n",
    "X=scaler.transform(X)\n",
    "#x=scaler.fit_transform(X)\n",
    "print(X)"
   ]
  },
  {
   "cell_type": "code",
   "execution_count": 62,
   "metadata": {},
   "outputs": [],
   "source": [
    "from sklearn.model_selection import train_test_split\n",
    "\n",
    "#split the data into test and train\n",
    "X_train,X_test,Y_train,Y_test=train_test_split(X,Y,test_size=0.2,random_state=10)"
   ]
  },
  {
   "cell_type": "code",
   "execution_count": 63,
   "metadata": {},
   "outputs": [],
   "source": [
    "from sklearn.linear_model import LogisticRegression\n",
    "#create a model object\n",
    "classifier=LogisticRegression()\n",
    "#train the model object\n",
    "classifier.fit(X_train,Y_train)# fit function is used to train the model\n",
    "\n",
    "Y_pred=classifier.predict(X_test)"
   ]
  },
  {
   "cell_type": "code",
   "execution_count": 64,
   "metadata": {},
   "outputs": [
    {
     "name": "stdout",
     "output_type": "stream",
     "text": [
      "[[15  0  8]\n",
      " [ 0 20  3]\n",
      " [15  3 32]]\n",
      "Classification report: \n",
      "              precision    recall  f1-score   support\n",
      "\n",
      "           0       0.50      0.65      0.57        23\n",
      "           1       0.87      0.87      0.87        23\n",
      "           2       0.74      0.64      0.69        50\n",
      "\n",
      "    accuracy                           0.70        96\n",
      "   macro avg       0.70      0.72      0.71        96\n",
      "weighted avg       0.72      0.70      0.70        96\n",
      "\n",
      "Accuracy of the model:  0.6979166666666666\n"
     ]
    }
   ],
   "source": [
    "from sklearn.metrics import confusion_matrix, accuracy_score, classification_report\n",
    "\n",
    "cfm=confusion_matrix(Y_test,Y_pred)\n",
    "print(cfm)\n",
    "\n",
    "print(\"Classification report: \")\n",
    "\n",
    "print(classification_report(Y_test,Y_pred))\n",
    "\n",
    "acc=accuracy_score(Y_test, Y_pred)\n",
    "print(\"Accuracy of the model: \",acc)"
   ]
  },
  {
   "cell_type": "code",
   "execution_count": 65,
   "metadata": {},
   "outputs": [],
   "source": [
    "#insight: We can conclude that variance threshold and select k best works well and gives good accuracy and recall "
   ]
  }
 ],
 "metadata": {
  "kernelspec": {
   "display_name": "Python 3 (ipykernel)",
   "language": "python",
   "name": "python3"
  },
  "language_info": {
   "codemirror_mode": {
    "name": "ipython",
    "version": 3
   },
   "file_extension": ".py",
   "mimetype": "text/x-python",
   "name": "python",
   "nbconvert_exporter": "python",
   "pygments_lexer": "ipython3",
   "version": "3.9.12"
  }
 },
 "nbformat": 4,
 "nbformat_minor": 4
}
